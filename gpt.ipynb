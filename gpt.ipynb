{
  "nbformat": 4,
  "nbformat_minor": 0,
  "metadata": {
    "colab": {
      "provenance": [],
      "gpuType": "T4",
      "mount_file_id": "1AcSe6c8fDLIX6p0o2n6mVTzjIo7m4-zp",
      "authorship_tag": "ABX9TyOH0GYw+kQCNAzEH8c9PLGY"
    },
    "kernelspec": {
      "name": "python3",
      "display_name": "Python 3"
    },
    "language_info": {
      "name": "python"
    },
    "accelerator": "GPU",
    "gpuClass": "standard"
  },
  "cells": [
    {
      "cell_type": "code",
      "source": [
        "from __future__ import annotations\n",
        "import typing\n",
        "import pandas as pd\n",
        "import numpy as np\n",
        "import matplotlib.pyplot as plt\n",
        "\n",
        "import torch\n",
        "import torch.nn as nn\n",
        "import torch.nn.functional as F\n",
        "\n",
        "import os\n",
        "import copy\n",
        "import pickle\n",
        "import time\n",
        "from tqdm import tqdm\n",
        "\n",
        "torch.manual_seed(3654)"
      ],
      "metadata": {
        "colab": {
          "base_uri": "https://localhost:8080/"
        },
        "id": "3cylbq10cJLR",
        "outputId": "c8f3c28b-d00d-471e-d604-60385d401ae9"
      },
      "execution_count": 1,
      "outputs": [
        {
          "output_type": "execute_result",
          "data": {
            "text/plain": [
              "<torch._C.Generator at 0x7f9b9a6a6050>"
            ]
          },
          "metadata": {},
          "execution_count": 1
        }
      ]
    },
    {
      "cell_type": "code",
      "source": [
        "device = \"cuda\" if torch.cuda.is_available() else \"cpu\"\n",
        "device"
      ],
      "metadata": {
        "colab": {
          "base_uri": "https://localhost:8080/",
          "height": 35
        },
        "id": "FdCn6nYLcF-w",
        "outputId": "f1cab2ee-bdde-4d70-a4fd-bd05a70b118a"
      },
      "execution_count": 2,
      "outputs": [
        {
          "output_type": "execute_result",
          "data": {
            "text/plain": [
              "'cuda'"
            ],
            "application/vnd.google.colaboratory.intrinsic+json": {
              "type": "string"
            }
          },
          "metadata": {},
          "execution_count": 2
        }
      ]
    },
    {
      "cell_type": "markdown",
      "source": [
        "# Get Text Data"
      ],
      "metadata": {
        "id": "R4D4Qw9ocaSV"
      }
    },
    {
      "cell_type": "code",
      "source": [
        "#We are only using the tweet column from TweetsElonMusk.csv\n",
        "#df = pd.read_csv(\"/content/drive/MyDrive/GPT/TweetsElonMusk.csv\", usecols=[\"tweet\"])\n",
        "#print(df.size)"
      ],
      "metadata": {
        "id": "0oGfwONBUTkd"
      },
      "execution_count": 9,
      "outputs": []
    },
    {
      "cell_type": "code",
      "source": [
        "# read it in to inspect it\n",
        "with open('/content/drive/MyDrive/GPT/Harry_Potter_all_books_preprocessed.txt', 'r', encoding='utf-8') as f:\n",
        "    text = f.read()"
      ],
      "metadata": {
        "id": "bfFx3lVE7Aat"
      },
      "execution_count": 10,
      "outputs": []
    },
    {
      "cell_type": "code",
      "source": [
        "# text = '\\n'.join(df['tweet'].astype(str).values)"
      ],
      "metadata": {
        "id": "tqllxqpnaR6I"
      },
      "execution_count": 11,
      "outputs": []
    },
    {
      "cell_type": "code",
      "source": [
        "print(len(text))"
      ],
      "metadata": {
        "colab": {
          "base_uri": "https://localhost:8080/"
        },
        "id": "sqFijcvBag0s",
        "outputId": "4aa78ec8-6101-4452-de39-7cf8d8f73101"
      },
      "execution_count": 12,
      "outputs": [
        {
          "output_type": "stream",
          "name": "stdout",
          "text": [
            "5991293\n"
          ]
        }
      ]
    },
    {
      "cell_type": "code",
      "source": [
        "print(text[:100])"
      ],
      "metadata": {
        "colab": {
          "base_uri": "https://localhost:8080/"
        },
        "id": "r4gUXbaHakcQ",
        "outputId": "75f8e2d2-6439-474b-fb6e-2083dcea024d"
      },
      "execution_count": 13,
      "outputs": [
        {
          "output_type": "stream",
          "name": "stdout",
          "text": [
            "THE BOY WHO LIVED Mr and Mrs Dursley of number four Privet Drive were proud to say that they were pe\n"
          ]
        }
      ]
    },
    {
      "cell_type": "markdown",
      "source": [
        "## Encoder\n"
      ],
      "metadata": {
        "id": "Voy9QgKuWFLi"
      }
    },
    {
      "cell_type": "code",
      "source": [
        "char_vocab = sorted(set(text))\n",
        "char_vocab_size = len(char_vocab)\n",
        "print(f\"char_vocab_size is {char_vocab_size}\")\n",
        "print(char_vocab)"
      ],
      "metadata": {
        "colab": {
          "base_uri": "https://localhost:8080/"
        },
        "id": "Odz3EzgtbTco",
        "outputId": "cd118ffb-de38-44e4-e376-fcbb92e61227"
      },
      "execution_count": 14,
      "outputs": [
        {
          "output_type": "stream",
          "name": "stdout",
          "text": [
            "char_vocab_size is 71\n",
            "[' ', '!', '.', '0', '1', '2', '3', '4', '5', '6', '7', '8', '9', '?', 'A', 'B', 'C', 'D', 'E', 'F', 'G', 'H', 'I', 'J', 'K', 'L', 'M', 'N', 'O', 'P', 'Q', 'R', 'S', 'T', 'U', 'V', 'W', 'X', 'Y', 'Z', 'a', 'b', 'c', 'd', 'e', 'f', 'g', 'h', 'i', 'j', 'k', 'l', 'm', 'n', 'o', 'p', 'q', 'r', 's', 't', 'u', 'v', 'w', 'x', 'y', 'z', '~', '‘', '•', '■', '□']\n"
          ]
        }
      ]
    },
    {
      "cell_type": "code",
      "source": [
        "# create a mapping from characters to integers\n",
        "stoi = { ch:i for i,ch in enumerate(char_vocab) }\n",
        "itos = { i:ch for i,ch in enumerate(char_vocab) }\n",
        "encode = lambda s: [stoi[c] for c in s] # encoder: take a string, output a list of integers\n",
        "decode = lambda l: ''.join([itos[i] for i in l]) # decoder: take a list of integers, output a string\n",
        "\n",
        "print(encode(\"hii there\"))\n",
        "print(decode(encode(\"hii there\")))"
      ],
      "metadata": {
        "colab": {
          "base_uri": "https://localhost:8080/"
        },
        "id": "S-Nb92p8cDd8",
        "outputId": "ffbafd9b-7bf4-40c1-83c9-a94e36f9c0ee"
      },
      "execution_count": 15,
      "outputs": [
        {
          "output_type": "stream",
          "name": "stdout",
          "text": [
            "[47, 48, 48, 0, 59, 47, 44, 57, 44]\n",
            "hii there\n"
          ]
        }
      ]
    },
    {
      "cell_type": "code",
      "source": [
        "# let's now encode the entire text dataset and store it into a torch.Tensor\n",
        "import torch # we use PyTorch: https://pytorch.org\n",
        "data = torch.tensor(encode(text), dtype=torch.long)\n",
        "print(data.shape, data.dtype)\n",
        "print(data[:1000]) # the 1000 characters we looked at earier will to the GPT look like this"
      ],
      "metadata": {
        "colab": {
          "base_uri": "https://localhost:8080/"
        },
        "id": "4xyMOJlDV0Rp",
        "outputId": "0a73f526-6a4f-4ed9-b39e-6cbcf14f203d"
      },
      "execution_count": 16,
      "outputs": [
        {
          "output_type": "stream",
          "name": "stdout",
          "text": [
            "torch.Size([5991293]) torch.int64\n",
            "tensor([33, 21, 18,  0, 15, 28, 38,  0, 36, 21, 28,  0, 25, 22, 35, 18, 17,  0,\n",
            "        26, 57,  0, 40, 53, 43,  0, 26, 57, 58,  0, 17, 60, 57, 58, 51, 44, 64,\n",
            "         0, 54, 45,  0, 53, 60, 52, 41, 44, 57,  0, 45, 54, 60, 57,  0, 29, 57,\n",
            "        48, 61, 44, 59,  0, 17, 57, 48, 61, 44,  0, 62, 44, 57, 44,  0, 55, 57,\n",
            "        54, 60, 43,  0, 59, 54,  0, 58, 40, 64,  0, 59, 47, 40, 59,  0, 59, 47,\n",
            "        44, 64,  0, 62, 44, 57, 44,  0, 55, 44, 57, 45, 44, 42, 59, 51, 64,  0,\n",
            "        53, 54, 57, 52, 40, 51,  0, 59, 47, 40, 53, 50,  0, 64, 54, 60,  0, 61,\n",
            "        44, 57, 64,  0, 52, 60, 42, 47,  0,  2, 33, 47, 44, 64,  0, 62, 44, 57,\n",
            "        44,  0, 59, 47, 44,  0, 51, 40, 58, 59,  0, 55, 44, 54, 55, 51, 44,  0,\n",
            "        64, 54, 60, 43,  0, 44, 63, 55, 44, 42, 59,  0, 59, 54,  0, 41, 44,  0,\n",
            "        48, 53, 61, 54, 51, 61, 44, 43,  0, 48, 53,  0, 40, 53, 64, 59, 47, 48,\n",
            "        53, 46,  0, 58, 59, 57, 40, 53, 46, 44,  0, 54, 57,  0, 52, 64, 58, 59,\n",
            "        44, 57, 48, 54, 60, 58,  0, 41, 44, 42, 40, 60, 58, 44,  0, 59, 47, 44,\n",
            "        64,  0, 49, 60, 58, 59,  0, 43, 48, 43, 53, 59,  0, 47, 54, 51, 43,  0,\n",
            "        62, 48, 59, 47,  0, 58, 60, 42, 47,  0, 53, 54, 53, 58, 44, 53, 58, 44,\n",
            "         0,  2, 26, 57,  0, 17, 60, 57, 58, 51, 44, 64,  0, 62, 40, 58,  0, 59,\n",
            "        47, 44,  0, 43, 48, 57, 44, 42, 59, 54, 57,  0, 54, 45,  0, 40,  0, 45,\n",
            "        48, 57, 52,  0, 42, 40, 51, 51, 44, 43,  0, 20, 57, 60, 53, 53, 48, 53,\n",
            "        46, 58,  0, 62, 47, 48, 42, 47,  0, 52, 40, 43, 44,  0, 43, 57, 48, 51,\n",
            "        51, 58,  0,  2, 21, 44,  0, 62, 40, 58,  0, 40,  0, 41, 48, 46,  0, 41,\n",
            "        44, 44, 45, 64,  0, 52, 40, 53,  0, 62, 48, 59, 47,  0, 47, 40, 57, 43,\n",
            "        51, 64,  0, 40, 53, 64,  0, 53, 44, 42, 50,  0, 40, 51, 59, 47, 54, 60,\n",
            "        46, 47,  0, 47, 44,  0, 43, 48, 43,  0, 47, 40, 61, 44,  0, 40,  0, 61,\n",
            "        44, 57, 64,  0, 51, 40, 57, 46, 44,  0, 52, 60, 58, 59, 40, 42, 47, 44,\n",
            "         0,  2, 26, 57, 58,  0, 17, 60, 57, 58, 51, 44, 64,  0, 62, 40, 58,  0,\n",
            "        59, 47, 48, 53,  0, 40, 53, 43,  0, 41, 51, 54, 53, 43, 44,  0, 40, 53,\n",
            "        43,  0, 47, 40, 43,  0, 53, 44, 40, 57, 51, 64,  0, 59, 62, 48, 42, 44,\n",
            "         0, 59, 47, 44,  0, 60, 58, 60, 40, 51,  0, 40, 52, 54, 60, 53, 59,  0,\n",
            "        54, 45,  0, 53, 44, 42, 50,  0, 62, 47, 48, 42, 47,  0, 42, 40, 52, 44,\n",
            "         0, 48, 53,  0, 61, 44, 57, 64,  0, 60, 58, 44, 45, 60, 51,  0, 40, 58,\n",
            "         0, 58, 47, 44,  0, 58, 55, 44, 53, 59,  0, 58, 54,  0, 52, 60, 42, 47,\n",
            "         0, 54, 45,  0, 47, 44, 57,  0, 59, 48, 52, 44,  0, 42, 57, 40, 53, 48,\n",
            "        53, 46,  0, 54, 61, 44, 57,  0, 46, 40, 57, 43, 44, 53,  0, 45, 44, 53,\n",
            "        42, 44, 58,  0, 58, 55, 64, 48, 53, 46,  0, 54, 53,  0, 59, 47, 44,  0,\n",
            "        53, 44, 48, 46, 47, 41, 54, 57, 58,  0,  2, 33, 47, 44,  0, 17, 60, 57,\n",
            "        58, 51, 44, 64,  0, 58,  0, 47, 40, 43,  0, 40,  0, 58, 52, 40, 51, 51,\n",
            "         0, 58, 54, 53,  0, 42, 40, 51, 51, 44, 43,  0, 17, 60, 43, 51, 44, 64,\n",
            "         0, 40, 53, 43,  0, 48, 53,  0, 59, 47, 44, 48, 57,  0, 54, 55, 48, 53,\n",
            "        48, 54, 53,  0, 59, 47, 44, 57, 44,  0, 62, 40, 58,  0, 53, 54,  0, 45,\n",
            "        48, 53, 44, 57,  0, 41, 54, 64,  0, 40, 53, 64, 62, 47, 44, 57, 44,  0,\n",
            "         2, 33, 47, 44,  0, 17, 60, 57, 58, 51, 44, 64, 58,  0, 47, 40, 43,  0,\n",
            "        44, 61, 44, 57, 64, 59, 47, 48, 53, 46,  0, 59, 47, 44, 64,  0, 62, 40,\n",
            "        53, 59, 44, 43,  0, 41, 60, 59,  0, 59, 47, 44, 64,  0, 40, 51, 58, 54,\n",
            "         0, 47, 40, 43,  0, 40,  0, 58, 44, 42, 57, 44, 59,  0, 40, 53, 43,  0,\n",
            "        59, 47, 44, 48, 57,  0, 46, 57, 44, 40, 59, 44, 58, 59,  0, 45, 44, 40,\n",
            "        57,  0, 62, 40, 58,  0, 59, 47, 40, 59,  0, 58, 54, 52, 44, 41, 54, 43,\n",
            "        64,  0, 62, 54, 60, 51, 43,  0, 43, 48, 58, 42, 54, 61, 44, 57,  0, 48,\n",
            "        59,  0,  2, 33, 47, 44, 64,  0, 43, 48, 43, 53, 59,  0, 59, 47, 48, 53,\n",
            "        50,  0, 59, 47, 44, 64,  0, 42, 54, 60, 51, 43,  0, 41, 44, 40, 57,  0,\n",
            "        48, 59,  0, 48, 45,  0, 40, 53, 64, 54, 53, 44,  0, 45, 54, 60, 53, 43,\n",
            "         0, 54, 60, 59,  0, 40, 41, 54, 60, 59,  0, 59, 47, 44,  0, 29, 54, 59,\n",
            "        59, 44, 57, 58,  0,  2, 26, 57, 58,  0, 29, 54, 59, 59, 44, 57,  0, 62,\n",
            "        40, 58,  0, 26, 57, 58,  0, 17, 60, 57, 58, 51, 44, 64, 58,  0, 58, 48,\n",
            "        58, 59, 44, 57,  0, 41, 60, 59,  0, 59, 47, 44, 64,  0, 47, 40, 43, 53,\n",
            "        59,  0, 52, 44, 59,  0, 45, 54, 57,  0, 58, 44, 61, 44, 57, 40, 51,  0,\n",
            "        64, 44, 40, 57, 58,  0, 48, 53,  0, 45])\n"
          ]
        }
      ]
    },
    {
      "cell_type": "code",
      "source": [
        "# Let's now split up the data into train and validation sets\n",
        "n = int(0.9*len(data)) # first 90% will be train, rest val\n",
        "train_data = data[:n]\n",
        "val_data = data[n:]"
      ],
      "metadata": {
        "id": "meu-LwqSV7GX"
      },
      "execution_count": 17,
      "outputs": []
    },
    {
      "cell_type": "code",
      "source": [
        "block_size = 8\n",
        "train_data[:block_size+1]"
      ],
      "metadata": {
        "colab": {
          "base_uri": "https://localhost:8080/"
        },
        "id": "bURqQvdXWLON",
        "outputId": "d427c3bd-060a-4f8b-a5b1-22de1deca0a2"
      },
      "execution_count": 18,
      "outputs": [
        {
          "output_type": "execute_result",
          "data": {
            "text/plain": [
              "tensor([33, 21, 18,  0, 15, 28, 38,  0, 36])"
            ]
          },
          "metadata": {},
          "execution_count": 18
        }
      ]
    },
    {
      "cell_type": "code",
      "source": [
        "x = train_data[:block_size]\n",
        "y = train_data[1:block_size+1]\n",
        "for t in range(block_size):\n",
        "    context = x[:t+1]\n",
        "    target = y[t]\n",
        "    print(f\"when input is {context} the target: {target}\")"
      ],
      "metadata": {
        "colab": {
          "base_uri": "https://localhost:8080/"
        },
        "id": "_HeSrZKsWOwy",
        "outputId": "7e377cf5-0a24-48bd-ecdd-88b9568c684e"
      },
      "execution_count": 19,
      "outputs": [
        {
          "output_type": "stream",
          "name": "stdout",
          "text": [
            "when input is tensor([33]) the target: 21\n",
            "when input is tensor([33, 21]) the target: 18\n",
            "when input is tensor([33, 21, 18]) the target: 0\n",
            "when input is tensor([33, 21, 18,  0]) the target: 15\n",
            "when input is tensor([33, 21, 18,  0, 15]) the target: 28\n",
            "when input is tensor([33, 21, 18,  0, 15, 28]) the target: 38\n",
            "when input is tensor([33, 21, 18,  0, 15, 28, 38]) the target: 0\n",
            "when input is tensor([33, 21, 18,  0, 15, 28, 38,  0]) the target: 36\n"
          ]
        }
      ]
    },
    {
      "cell_type": "code",
      "source": [
        "torch.manual_seed(1337)\n",
        "batch_size = 4 # how many independent sequences will we process in parallel?\n",
        "block_size = 8 # what is the maximum context length for predictions?\n",
        "\n",
        "def get_batch(split):\n",
        "    # generate a small batch of data of inputs x and targets y\n",
        "    data = train_data if split == 'train' else val_data\n",
        "    ix = torch.randint(len(data) - block_size, (batch_size,))\n",
        "    x = torch.stack([data[i:i+block_size] for i in ix])\n",
        "    y = torch.stack([data[i+1:i+block_size+1] for i in ix])\n",
        "    return x, y\n",
        "\n",
        "xb, yb = get_batch('train')\n",
        "print('inputs:')\n",
        "print(xb.shape)\n",
        "print(xb)\n",
        "print('targets:')\n",
        "print(yb.shape)\n",
        "print(yb)\n",
        "\n",
        "print('----')\n",
        "\n",
        "for b in range(batch_size): # batch dimension\n",
        "    for t in range(block_size): # time dimension\n",
        "        context = xb[b, :t+1]\n",
        "        target = yb[b,t]\n",
        "        print(f\"when input is {context.tolist()} the target: {target}\")"
      ],
      "metadata": {
        "colab": {
          "base_uri": "https://localhost:8080/"
        },
        "id": "zX7I80V3WUQ8",
        "outputId": "4f5a83c4-ee8e-4a1a-ac22-27be2166bfa5"
      },
      "execution_count": 20,
      "outputs": [
        {
          "output_type": "stream",
          "name": "stdout",
          "text": [
            "inputs:\n",
            "torch.Size([4, 8])\n",
            "tensor([[64, 54, 60,  0, 50, 53, 54, 62],\n",
            "        [55, 40, 57, 50,  0,  2, 28, 53],\n",
            "        [59, 44, 57, 41, 44, 44, 57,  0],\n",
            "        [44, 40, 42, 47, 44, 57, 58,  0]])\n",
            "targets:\n",
            "torch.Size([4, 8])\n",
            "tensor([[54, 60,  0, 50, 53, 54, 62,  0],\n",
            "        [40, 57, 50,  0,  2, 28, 53, 44],\n",
            "        [44, 57, 41, 44, 44, 57,  0, 42],\n",
            "        [40, 42, 47, 44, 57, 58,  0, 43]])\n",
            "----\n",
            "when input is [64] the target: 54\n",
            "when input is [64, 54] the target: 60\n",
            "when input is [64, 54, 60] the target: 0\n",
            "when input is [64, 54, 60, 0] the target: 50\n",
            "when input is [64, 54, 60, 0, 50] the target: 53\n",
            "when input is [64, 54, 60, 0, 50, 53] the target: 54\n",
            "when input is [64, 54, 60, 0, 50, 53, 54] the target: 62\n",
            "when input is [64, 54, 60, 0, 50, 53, 54, 62] the target: 0\n",
            "when input is [55] the target: 40\n",
            "when input is [55, 40] the target: 57\n",
            "when input is [55, 40, 57] the target: 50\n",
            "when input is [55, 40, 57, 50] the target: 0\n",
            "when input is [55, 40, 57, 50, 0] the target: 2\n",
            "when input is [55, 40, 57, 50, 0, 2] the target: 28\n",
            "when input is [55, 40, 57, 50, 0, 2, 28] the target: 53\n",
            "when input is [55, 40, 57, 50, 0, 2, 28, 53] the target: 44\n",
            "when input is [59] the target: 44\n",
            "when input is [59, 44] the target: 57\n",
            "when input is [59, 44, 57] the target: 41\n",
            "when input is [59, 44, 57, 41] the target: 44\n",
            "when input is [59, 44, 57, 41, 44] the target: 44\n",
            "when input is [59, 44, 57, 41, 44, 44] the target: 57\n",
            "when input is [59, 44, 57, 41, 44, 44, 57] the target: 0\n",
            "when input is [59, 44, 57, 41, 44, 44, 57, 0] the target: 42\n",
            "when input is [44] the target: 40\n",
            "when input is [44, 40] the target: 42\n",
            "when input is [44, 40, 42] the target: 47\n",
            "when input is [44, 40, 42, 47] the target: 44\n",
            "when input is [44, 40, 42, 47, 44] the target: 57\n",
            "when input is [44, 40, 42, 47, 44, 57] the target: 58\n",
            "when input is [44, 40, 42, 47, 44, 57, 58] the target: 0\n",
            "when input is [44, 40, 42, 47, 44, 57, 58, 0] the target: 43\n"
          ]
        }
      ]
    },
    {
      "cell_type": "code",
      "source": [
        "print(xb) # our input to the transformer"
      ],
      "metadata": {
        "colab": {
          "base_uri": "https://localhost:8080/"
        },
        "id": "vj2AeriNWbTP",
        "outputId": "f395af29-af63-436f-f597-15284344b201"
      },
      "execution_count": 21,
      "outputs": [
        {
          "output_type": "stream",
          "name": "stdout",
          "text": [
            "tensor([[64, 54, 60,  0, 50, 53, 54, 62],\n",
            "        [55, 40, 57, 50,  0,  2, 28, 53],\n",
            "        [59, 44, 57, 41, 44, 44, 57,  0],\n",
            "        [44, 40, 42, 47, 44, 57, 58,  0]])\n"
          ]
        }
      ]
    },
    {
      "cell_type": "markdown",
      "source": [
        "# Bigram Model"
      ],
      "metadata": {
        "id": "uUfcCrHBWlOL"
      }
    },
    {
      "cell_type": "code",
      "source": [
        "import torch\n",
        "import torch.nn as nn\n",
        "from torch.nn import functional as F\n",
        "torch.manual_seed(1337)\n",
        "\n",
        "class BigramLanguageModel(nn.Module):\n",
        "\n",
        "    def __init__(self, vocab_size):\n",
        "        super().__init__()\n",
        "        # each token directly reads off the logits for the next token from a lookup table\n",
        "        self.token_embedding_table = nn.Embedding(vocab_size, vocab_size)\n",
        "\n",
        "    def forward(self, idx, targets=None):\n",
        "\n",
        "        # idx and targets are both (B,T) tensor of integers\n",
        "        logits = self.token_embedding_table(idx) # (B,T,C)\n",
        "        \n",
        "        if targets is None:\n",
        "            loss = None\n",
        "        else:\n",
        "            B, T, C = logits.shape\n",
        "            logits = logits.view(B*T, C)\n",
        "            targets = targets.view(B*T)\n",
        "            loss = F.cross_entropy(logits, targets)\n",
        "\n",
        "        return logits, loss\n",
        "    \n",
        "    def generate(self, idx, max_new_tokens):\n",
        "        # idx is (B, T) array of indices in the current context\n",
        "        for _ in range(max_new_tokens):\n",
        "            # get the predictions\n",
        "            logits, loss = self(idx)\n",
        "            # focus only on the last time step\n",
        "            logits = logits[:, -1, :] # becomes (B, C)\n",
        "            # apply softmax to get probabilities\n",
        "            probs = F.softmax(logits, dim=-1) # (B, C)\n",
        "            # sample from the distribution\n",
        "            idx_next = torch.multinomial(probs, num_samples=1) # (B, 1)\n",
        "            # append sampled index to the running sequence\n",
        "            idx = torch.cat((idx, idx_next), dim=1) # (B, T+1)\n",
        "        return idx\n",
        "\n",
        "model = BigramLanguageModel(char_vocab_size).to(device)\n",
        "logits, loss = model(xb, yb)\n",
        "print(logits.shape)\n",
        "print(loss)\n",
        "\n",
        "print(decode(model.generate(idx = torch.zeros((1, 1), dtype=torch.long), max_new_tokens=100)[0].tolist()))"
      ],
      "metadata": {
        "colab": {
          "base_uri": "https://localhost:8080/"
        },
        "id": "sgz-BDaiWcfP",
        "outputId": "1783be92-d32c-45ce-af15-9ef1a746cfeb"
      },
      "execution_count": 22,
      "outputs": [
        {
          "output_type": "stream",
          "name": "stdout",
          "text": [
            "torch.Size([32, 71])\n",
            "tensor(4.8702, grad_fn=<NllLossBackward0>)\n",
            " 3yhb■rnCYI1Z‘ZjKrtYdC2dB5iWFK!vIH4VBji6Nes8szMeFzq5ic5■C□55VED?VB9sYz‘OAtayh6Mes8‘Zj4nQj?r2TEi5rIFqB\n"
          ]
        }
      ]
    },
    {
      "cell_type": "code",
      "source": [
        "# create a PyTorch optimizer\n",
        "optimizer = torch.optim.AdamW(model.parameters(), lr=1e-3)"
      ],
      "metadata": {
        "id": "DcgsavOXW4fq"
      },
      "execution_count": 23,
      "outputs": []
    },
    {
      "cell_type": "code",
      "source": [
        "batch_size = 32\n",
        "losses = []\n",
        "\n",
        "for steps in range(10000): # increase number of steps for good results... \n",
        "    \n",
        "    ## we can also figure out our loss function : -ln(1/char_vocab_size)\n",
        "\n",
        "    # sample a batch of data\n",
        "    xb, yb = get_batch('train')\n",
        "\n",
        "    # evaluate the loss\n",
        "    logits, loss = model(xb, yb)\n",
        "    optimizer.zero_grad(set_to_none=True)\n",
        "    loss.backward()\n",
        "    optimizer.step()\n",
        "    \n",
        "\n",
        "    losses.append(loss.item())\n",
        "\n",
        "print(loss.item())\n"
      ],
      "metadata": {
        "colab": {
          "base_uri": "https://localhost:8080/"
        },
        "id": "4oVqf6PmW7I0",
        "outputId": "9e88b888-c107-452b-9dc9-e0a00dc4c0cc"
      },
      "execution_count": 24,
      "outputs": [
        {
          "output_type": "stream",
          "name": "stdout",
          "text": [
            "2.351505994796753\n"
          ]
        }
      ]
    },
    {
      "cell_type": "markdown",
      "source": [],
      "metadata": {
        "id": "LlyMNLd6WkgU"
      }
    },
    {
      "cell_type": "code",
      "source": [
        "print(decode(model.generate(idx = torch.zeros((1, 1), dtype=torch.long), max_new_tokens=2000)[0].tolist()))"
      ],
      "metadata": {
        "colab": {
          "base_uri": "https://localhost:8080/"
        },
        "id": "tSuCGU00XiJd",
        "outputId": "61784dc7-53fc-4dfd-eb97-ea301949b548"
      },
      "execution_count": 25,
      "outputs": [
        {
          "output_type": "stream",
          "name": "stdout",
          "text": [
            " o bory irn wavep in usseathabe inthinds ldemit d tensibo .THars Dud id .y ts we atothef mashitog cryooorth .Tomes Ron ly he y m qvoped Mrst t P■ze hathe bugr pay a tawhey tano y .Yof Cl n a he m I auner Crsthask s .He hiewame tithe .Roulawaroulyerr jurolchetr s f frory cke her ht enk blecke anin m‘Vme Obry am bar chthe safllthatheng hous s Ume hextey alurie in w rom .The onpred blffrestr lal yer sof He hsastin ntsageasstorsay he itoly cenarne d s t medore hemsthan asanome y aneyotid hind stofo stshe y tur wistede s chedof sande .THake ts wiund tht?armpid ik dge h t jur bl hien thelke Frarmsndind .Slory dd h f nop Hibonewanelaboff .Anttag ceery lyLumalestagre CORoplape horeat rowind bugon hr d y 123k Werinot t sasout tif ss t aser in abery tre s .Sheaid Halleankslast and aid wing Rore De y ffber Hadee tlese .Dutok sppso9u for ss tulolowhise are hain t nvistetamitherourin perer mimes lfomup t cero lom ay Rous t hengnge ariethaGrkss uid toublyorexin shas d m aisthily fang Po .Yes uthThexid verye g pre waroou at Pour mat e le .cheethooffous .Ansla tiarVemelrrthiry ?Sl .VOkin k l fe ch has Thin s the I tids osint ershered ind kly d y TCo thed hed phid It t anse wawhe cle inallon hoverid A ve PherspurttSMom m ithere IthiRoband aingalfe he tus k shengovin cedoupy erple as□5Voounsh t bvressheout ?g all alle bulet frrghowin rm we gest wrear telmper t ro bved .I bered suld .Ifld ted tos then f ghan agocamYentBley eyotaret Helelt s Mateintounilerby heff cchangemothis d6Off d as bllffoome Hainte peden a ringe KE nt es therry expearive se ho k gl Vokizeariraz arow there He t K7Cr o t ckinod oully ng o efelek ?Pathe ary could as Haga□Xeng hermig weld t thet Rosl ooend LLThentis .Ad gast thedas shtheaveve nghasthaitoinew s .RARETevd ng har seveans are fo y geaivinan ct fue Hal helle woorer thibom at athanle inemed ndimiged Tha athanshr eld eveacolo w t songee d ane t .Ussl ld s lsht pplinsthowshoneats .idestete takn ly d are are t .Wharobr t .Jow thory G edinghe ?ETe lifofen aldil\n"
          ]
        }
      ]
    },
    {
      "cell_type": "code",
      "source": [
        "import matplotlib.pyplot as plt\n",
        "\n",
        "plt.plot(losses)\n"
      ],
      "metadata": {
        "id": "r0CWRzDOYKNP",
        "colab": {
          "base_uri": "https://localhost:8080/",
          "height": 447
        },
        "outputId": "ad33f72c-a8fa-409b-ccda-0b2aa2214ae1"
      },
      "execution_count": 26,
      "outputs": [
        {
          "output_type": "execute_result",
          "data": {
            "text/plain": [
              "[<matplotlib.lines.Line2D at 0x7fad2e762020>]"
            ]
          },
          "metadata": {},
          "execution_count": 26
        },
        {
          "output_type": "display_data",
          "data": {
            "text/plain": [
              "<Figure size 640x480 with 1 Axes>"
            ],
            "image/png": "[encoded data removed]"
          },
          "metadata": {}
        }
      ]
    },
    {
      "cell_type": "code",
      "source": [],
      "metadata": {
        "id": "j4P0d6tFqnUF"
      },
      "execution_count": 26,
      "outputs": []
    },
    {
      "cell_type": "markdown",
      "source": [],
      "metadata": {
        "id": "ujOW1BwU75V_"
      }
    },
    {
      "cell_type": "markdown",
      "source": [
        "# Attention"
      ],
      "metadata": {
        "id": "5mV0CbISTOib"
      }
    },
    {
      "cell_type": "markdown",
      "source": [
        "## Math trick in Self Attention\n"
      ],
      "metadata": {
        "id": "jgs1c-DtTpFP"
      }
    },
    {
      "cell_type": "code",
      "source": [
        "#consider the toy example:\n",
        "\n",
        "torch.manual_seed(1337)\n",
        "B, T, C = 4, 8, 2 # batch, time, channels\n",
        "x = torch.randn(B,T,C)\n",
        "x.shape\n",
        "\n",
        "#information only flows in the previous time stamp"
      ],
      "metadata": {
        "id": "2QyKUvuvTUS7",
        "colab": {
          "base_uri": "https://localhost:8080/"
        },
        "outputId": "84f76b2e-06d2-4cc5-ea01-ffb8cff2014a"
      },
      "execution_count": 27,
      "outputs": [
        {
          "output_type": "execute_result",
          "data": {
            "text/plain": [
              "torch.Size([4, 8, 2])"
            ]
          },
          "metadata": {},
          "execution_count": 27
        }
      ]
    },
    {
      "cell_type": "markdown",
      "source": [
        "What is the easiest way for tokens to communicate? \n",
        "At $n^{th}$ token, take an avg of all preceding tokens --> feature vector that \"summarizes\" $n^{th}$ in the context of its history\n",
        "Of course, taking an avg is weak and lossy to represent that context"
      ],
      "metadata": {
        "id": "m3lq8z-4Tndp"
      }
    },
    {
      "cell_type": "code",
      "source": [
        "# We want x[b,t] = mean_{i<=t} x[b,i]\n",
        "#xbow -> x bag of words\n",
        "xbow = torch.zeros((B,T,C))\n",
        "for b in range(B):\n",
        "    for t in range(T):\n",
        "        xprev = x[b,:t+1] # (t,C)     we are including the tth token \n",
        "        xbow[b,t] = torch.mean(xprev, 0)"
      ],
      "metadata": {
        "id": "lKM8o_n-Uf0h"
      },
      "execution_count": 28,
      "outputs": []
    },
    {
      "cell_type": "code",
      "source": [
        "# self-attention!\n",
        "torch.manual_seed(1337)\n",
        "B,T,C = 4,8,32 # batch, time, channels\n",
        "x = torch.randn(B,T,C)\n",
        "\n",
        "# let's see a single Head perform self-attention\n",
        "head_size = 16 \n",
        "key = nn.Linear(C, head_size, bias=False) # what do i contain\n",
        "query = nn.Linear(C, head_size, bias=False) # what am i looking for\n",
        "value = nn.Linear(C, head_size, bias=False)\n",
        "k = key(x)   # (B, T, 16)\n",
        "q = query(x) # (B, T, 16)\n",
        "# wei is dot product of key and query\n",
        "# we transpose the last two dimensions of key .transpose(-2, -1)\n",
        "wei =  q @ k.transpose(-2, -1) # (B, T, 16) @ (B, 16, T) ---> (B, T, T)  \n",
        "\n",
        "tril = torch.tril(torch.ones(T, T))\n",
        "#wei = torch.zeros((T,T))\n",
        "wei = wei.masked_fill(tril == 0, float('-inf'))\n",
        "wei = F.softmax(wei, dim=-1)\n",
        "\n",
        "v = value(x)\n",
        "out = wei @ v\n",
        "#out = wei @ x\n",
        "\n",
        "out.shape"
      ],
      "metadata": {
        "colab": {
          "base_uri": "https://localhost:8080/"
        },
        "id": "zUcmhZmDp4gv",
        "outputId": "feb8e217-4bba-4a0d-8098-30ed5664b449"
      },
      "execution_count": 29,
      "outputs": [
        {
          "output_type": "execute_result",
          "data": {
            "text/plain": [
              "torch.Size([4, 8, 16])"
            ]
          },
          "metadata": {},
          "execution_count": 29
        }
      ]
    },
    {
      "cell_type": "markdown",
      "source": [
        "- \"self-attention\" just means that the keys and values are produced from the same source as queries (in this case, x). In \"cross-attention\", the queries still get produced from x, but the keys and values come from some other, external source (e.g. an encoder module)\n",
        "- \"Scaled\" attention additional divides wei by 1/sqrt(head_size). This makes it so when input Q,K are unit variance, wei will be unit variance too and Softmax will stay diffuse and not saturate too much. Illustration below"
      ],
      "metadata": {
        "id": "tHGR261UrVFO"
      }
    },
    {
      "cell_type": "code",
      "source": [
        "import torch\n",
        "import torch.nn as nn\n",
        "from torch.nn import functional as F\n",
        "\n",
        "# hyperparameters\n",
        "batch_size = 16 # how many independent sequences will we process in parallel?\n",
        "block_size = 32 # what is the maximum context length for predictions?\n",
        "max_iters = 5000\n",
        "eval_interval = 100\n",
        "learning_rate = 1e-3\n",
        "device = 'cuda' if torch.cuda.is_available() else 'cpu'\n",
        "eval_iters = 200\n",
        "n_embd = 64\n",
        "n_head = 4\n",
        "n_layer = 4\n",
        "dropout = 0.2\n",
        "# ------------\n",
        "\n",
        "torch.manual_seed(1337)\n",
        "\n",
        "# harry potter text\n",
        "with open('/content/drive/MyDrive/GPT/Harry_Potter_all_books_preprocessed.txt', 'r', encoding='utf-8') as f:\n",
        "    text = f.read()\n",
        "\n",
        "# here are all the unique characters that occur in this text\n",
        "chars = sorted(list(set(text)))\n",
        "vocab_size = len(chars)\n",
        "# create a mapping from characters to integers\n",
        "stoi = { ch:i for i,ch in enumerate(chars) }\n",
        "itos = { i:ch for i,ch in enumerate(chars) }\n",
        "encode = lambda s: [stoi[c] for c in s] # encoder: take a string, output a list of integers\n",
        "decode = lambda l: ''.join([itos[i] for i in l]) # decoder: take a list of integers, output a string\n",
        "\n",
        "# Train and test splits\n",
        "data = torch.tensor(encode(text), dtype=torch.long)\n",
        "n = int(0.9*len(data)) # first 90% will be train, rest val\n",
        "train_data = data[:n]\n",
        "val_data = data[n:]\n",
        "\n",
        "# data loading\n",
        "def get_batch(split):\n",
        "    # generate a small batch of data of inputs x and targets y\n",
        "    data = train_data if split == 'train' else val_data\n",
        "    ix = torch.randint(len(data) - block_size, (batch_size,))\n",
        "    x = torch.stack([data[i:i+block_size] for i in ix])\n",
        "    y = torch.stack([data[i+1:i+block_size+1] for i in ix])\n",
        "    x, y = x.to(device), y.to(device)\n",
        "    return x, y\n",
        "\n",
        "@torch.no_grad()\n",
        "def estimate_loss():\n",
        "    out = {}\n",
        "    model.eval()\n",
        "    for split in ['train', 'val']:\n",
        "        losses = torch.zeros(eval_iters)\n",
        "        for k in range(eval_iters):\n",
        "            X, Y = get_batch(split)\n",
        "            logits, loss = model(X, Y)\n",
        "            losses[k] = loss.item()\n",
        "        out[split] = losses.mean()\n",
        "    model.train()\n",
        "    return out\n",
        "\n",
        "class Head(nn.Module):\n",
        "    \"\"\" one head of self-attention \"\"\"\n",
        "\n",
        "    def __init__(self, head_size):\n",
        "        super().__init__()\n",
        "        self.key = nn.Linear(n_embd, head_size, bias=False)\n",
        "        self.query = nn.Linear(n_embd, head_size, bias=False)\n",
        "        self.value = nn.Linear(n_embd, head_size, bias=False)\n",
        "        self.register_buffer('tril', torch.tril(torch.ones(block_size, block_size)))\n",
        "\n",
        "        self.dropout = nn.Dropout(dropout)\n",
        "\n",
        "    def forward(self, x):\n",
        "        B,T,C = x.shape\n",
        "        k = self.key(x)   # (B,T,C)\n",
        "        q = self.query(x) # (B,T,C)\n",
        "        # compute attention scores (\"affinities\")\n",
        "        wei = q @ k.transpose(-2,-1) * C**-0.5 # (B, T, C) @ (B, C, T) -> (B, T, T)\n",
        "        wei = wei.masked_fill(self.tril[:T, :T] == 0, float('-inf')) # (B, T, T)\n",
        "        wei = F.softmax(wei, dim=-1) # (B, T, T)\n",
        "        wei = self.dropout(wei)\n",
        "        # perform the weighted aggregation of the values\n",
        "        v = self.value(x) # (B,T,C)\n",
        "        out = wei @ v # (B, T, T) @ (B, T, C) -> (B, T, C)\n",
        "        return out\n",
        "\n",
        "class MultiHeadAttention(nn.Module):\n",
        "    \"\"\" multiple heads of self-attention in parallel \"\"\"\n",
        "\n",
        "    def __init__(self, num_heads, head_size):\n",
        "        super().__init__()\n",
        "        self.heads = nn.ModuleList([Head(head_size) for _ in range(num_heads)])\n",
        "        self.proj = nn.Linear(n_embd, n_embd)\n",
        "        self.dropout = nn.Dropout(dropout)\n",
        "\n",
        "    def forward(self, x):\n",
        "        out = torch.cat([h(x) for h in self.heads], dim=-1)\n",
        "        out = self.dropout(self.proj(out))\n",
        "        return out\n",
        "\n",
        "class FeedFoward(nn.Module):\n",
        "    \"\"\" a simple linear layer followed by a non-linearity \"\"\"\n",
        "\n",
        "    def __init__(self, n_embd):\n",
        "        super().__init__()\n",
        "        self.net = nn.Sequential(\n",
        "            nn.Linear(n_embd, 4 * n_embd),\n",
        "            nn.ReLU(),\n",
        "            nn.Linear(4 * n_embd, n_embd),\n",
        "            nn.Dropout(dropout),\n",
        "        )\n",
        "\n",
        "    def forward(self, x):\n",
        "        return self.net(x)\n",
        "\n",
        "class Block(nn.Module):\n",
        "    \"\"\" Transformer block: communication followed by computation \"\"\"\n",
        "\n",
        "    def __init__(self, n_embd, n_head):\n",
        "        # n_embd: embedding dimension, n_head: the number of heads we'd like\n",
        "        super().__init__()\n",
        "        head_size = n_embd // n_head\n",
        "        self.sa = MultiHeadAttention(n_head, head_size)\n",
        "        self.ffwd = FeedFoward(n_embd)\n",
        "        self.ln1 = nn.LayerNorm(n_embd)\n",
        "        self.ln2 = nn.LayerNorm(n_embd)\n",
        "\n",
        "    def forward(self, x):\n",
        "        x = x + self.sa(self.ln1(x))\n",
        "        x = x + self.ffwd(self.ln2(x))\n",
        "        return x\n",
        "\n",
        "# super simple bigram model\n",
        "class BigramLanguageModel(nn.Module):\n",
        "\n",
        "    def __init__(self):\n",
        "        super().__init__()\n",
        "        # each token directly reads off the logits for the next token from a lookup table\n",
        "        self.token_embedding_table = nn.Embedding(vocab_size, n_embd)\n",
        "        self.position_embedding_table = nn.Embedding(block_size, n_embd)\n",
        "        self.blocks = nn.Sequential(*[Block(n_embd, n_head=n_head) for _ in range(n_layer)])\n",
        "        self.ln_f = nn.LayerNorm(n_embd) # final layer norm\n",
        "        self.lm_head = nn.Linear(n_embd, vocab_size)\n",
        "\n",
        "    def forward(self, idx, targets=None):\n",
        "        B, T = idx.shape\n",
        "\n",
        "        # idx and targets are both (B,T) tensor of integers\n",
        "        tok_emb = self.token_embedding_table(idx) # (B,T,C)\n",
        "        pos_emb = self.position_embedding_table(torch.arange(T, device=device)) # (T,C)\n",
        "        x = tok_emb + pos_emb # (B,T,C)\n",
        "        x = self.blocks(x) # (B,T,C)\n",
        "        x = self.ln_f(x) # (B,T,C)\n",
        "        logits = self.lm_head(x) # (B,T,vocab_size)\n",
        "\n",
        "        if targets is None:\n",
        "            loss = None\n",
        "        else:\n",
        "            B, T, C = logits.shape\n",
        "            logits = logits.view(B*T, C)\n",
        "            targets = targets.view(B*T)\n",
        "            loss = F.cross_entropy(logits, targets)\n",
        "\n",
        "        return logits, loss\n",
        "\n",
        "    def generate(self, idx, max_new_tokens):\n",
        "        # idx is (B, T) array of indices in the current context\n",
        "        for _ in range(max_new_tokens):\n",
        "            # crop idx to the last block_size tokens\n",
        "            idx_cond = idx[:, -block_size:]\n",
        "            # get the predictions\n",
        "            logits, loss = self(idx_cond)\n",
        "            # focus only on the last time step\n",
        "            logits = logits[:, -1, :] # becomes (B, C)\n",
        "            # apply softmax to get probabilities\n",
        "            probs = F.softmax(logits, dim=-1) # (B, C)\n",
        "            # sample from the distribution\n",
        "            idx_next = torch.multinomial(probs, num_samples=1) # (B, 1)\n",
        "            # append sampled index to the running sequence\n",
        "            idx = torch.cat((idx, idx_next), dim=1) # (B, T+1)\n",
        "        return idx\n",
        "\n",
        "model = BigramLanguageModel()\n",
        "m = model.to(device)\n",
        "# print the number of parameters in the model\n",
        "print(sum(p.numel() for p in m.parameters())/1e6, 'M parameters')\n",
        "\n",
        "# create a PyTorch optimizer\n",
        "optimizer = torch.optim.AdamW(model.parameters(), lr=learning_rate)\n",
        "\n",
        "for iter in range(max_iters):\n",
        "\n",
        "    # every once in a while evaluate the loss on train and val sets\n",
        "    if iter % eval_interval == 0 or iter == max_iters - 1:\n",
        "        losses = estimate_loss()\n",
        "        print(f\"step {iter}: train loss {losses['train']:.4f}, val loss {losses['val']:.4f}\")\n",
        "\n",
        "    # sample a batch of data\n",
        "    xb, yb = get_batch('train')\n",
        "\n",
        "    # evaluate the loss\n",
        "    logits, loss = model(xb, yb)\n",
        "    optimizer.zero_grad(set_to_none=True)\n",
        "    loss.backward()\n",
        "    optimizer.step()\n",
        "\n",
        "# generate from the model\n",
        "context = torch.zeros((1, 1), dtype=torch.long, device=device)\n",
        "print(decode(m.generate(context, max_new_tokens=2000)[0].tolist()))\n"
      ],
      "metadata": {
        "colab": {
          "base_uri": "https://localhost:8080/"
        },
        "id": "UO81cCPpy8fE",
        "outputId": "bd57f851-baf9-4b8e-cee7-7cb777f454e5"
      },
      "execution_count": 3,
      "outputs": [
        {
          "output_type": "stream",
          "name": "stdout",
          "text": [
            "0.210503 M parameters\n",
            "step 0: train loss 4.4448, val loss 4.4456\n",
            "step 100: train loss 2.5406, val loss 2.5135\n",
            "step 200: train loss 2.4087, val loss 2.3873\n",
            "step 300: train loss 2.3321, val loss 2.3173\n",
            "step 400: train loss 2.2724, val loss 2.2549\n",
            "step 500: train loss 2.2172, val loss 2.1965\n",
            "step 600: train loss 2.1505, val loss 2.1398\n",
            "step 700: train loss 2.1009, val loss 2.0871\n",
            "step 800: train loss 2.0533, val loss 2.0466\n",
            "step 900: train loss 2.0135, val loss 2.0100\n",
            "step 1000: train loss 1.9801, val loss 1.9653\n",
            "step 1100: train loss 1.9459, val loss 1.9367\n",
            "step 1200: train loss 1.9240, val loss 1.9053\n",
            "step 1300: train loss 1.8819, val loss 1.8940\n",
            "step 1400: train loss 1.8762, val loss 1.8786\n",
            "step 1500: train loss 1.8536, val loss 1.8510\n",
            "step 1600: train loss 1.8387, val loss 1.8404\n",
            "step 1700: train loss 1.8113, val loss 1.8300\n",
            "step 1800: train loss 1.8201, val loss 1.8195\n",
            "step 1900: train loss 1.7896, val loss 1.8003\n",
            "step 2000: train loss 1.7788, val loss 1.7793\n",
            "step 2100: train loss 1.7615, val loss 1.7779\n",
            "step 2200: train loss 1.7536, val loss 1.7511\n",
            "step 2300: train loss 1.7599, val loss 1.7554\n",
            "step 2400: train loss 1.7234, val loss 1.7409\n",
            "step 2500: train loss 1.7245, val loss 1.7284\n",
            "step 2600: train loss 1.7188, val loss 1.7298\n",
            "step 2700: train loss 1.7169, val loss 1.7102\n",
            "step 2800: train loss 1.7031, val loss 1.7220\n",
            "step 2900: train loss 1.6869, val loss 1.6996\n",
            "step 3000: train loss 1.6821, val loss 1.7024\n",
            "step 3100: train loss 1.6838, val loss 1.6843\n",
            "step 3200: train loss 1.6715, val loss 1.6706\n",
            "step 3300: train loss 1.6679, val loss 1.6858\n",
            "step 3400: train loss 1.6599, val loss 1.6636\n",
            "step 3500: train loss 1.6557, val loss 1.6651\n",
            "step 3600: train loss 1.6411, val loss 1.6700\n",
            "step 3700: train loss 1.6499, val loss 1.6563\n",
            "step 3800: train loss 1.6253, val loss 1.6506\n",
            "step 3900: train loss 1.6365, val loss 1.6512\n",
            "step 4000: train loss 1.6304, val loss 1.6526\n",
            "step 4100: train loss 1.6247, val loss 1.6431\n",
            "step 4200: train loss 1.6153, val loss 1.6289\n",
            "step 4300: train loss 1.6024, val loss 1.6199\n",
            "step 4400: train loss 1.6014, val loss 1.6330\n",
            "step 4500: train loss 1.5982, val loss 1.6088\n",
            "step 4600: train loss 1.5897, val loss 1.6091\n",
            "step 4700: train loss 1.5967, val loss 1.5976\n",
            "step 4800: train loss 1.5899, val loss 1.6126\n",
            "step 4900: train loss 1.5864, val loss 1.6048\n",
            "step 4999: train loss 1.5732, val loss 1.5967\n",
            " over are an conved own the are aloud latay .Fudge from in in his grains somethiping upsations .Colddinvibly to well mothy into .Harry sneeves back .No mage .What he did mullosed himself upsside in amome him a in .Theyrime of the griden but with out hird his want his Harry out his fingly know whosije in Voldemort Bobhay when he had pared the dirence of the sat to them as of eveny before leess in here friendo his and Hermione throom out a her ancroad and the stunderble playing aut the breather Mrs splowering lifth he pulled as linations grealed with sprim it spressiony about himself a was cont but eroly .Well long let Dumbledore huritione dung table nure .You sprow with he ond sir his and cutter yed you Krux abs Bolify .Eve wall under but him .You goblanaged .No the unt brongs !Harry at know into the know it hurthing in his grewindon a priummon the Brolde and Harry was donsting in whittly away as muttroadled in sway alloward noaje in the gurest enaily vash one an was here .tep name family .He to hit on a fropsidge impation and the tad card !Harry now mind a standed .Sorred little his him with a hiffie did welt sure him up the going a we .Dont all Hagrid he halms .How thurest dial job a was not be handed down atvermoss we could thing hersafued was everying itsleeped all overy penched to like it was word pencioned ?Gay Maram Professor McGing as hites on a proused there fitte .They omages insweem of up and .Harry plosed of mans place .Hardionly feaphant traid Dumbledore in .Were sayingly an it Gratte you be are duce a sway contraugh ubblut the old and here are A abithed forefuliow it a hand clistick of excustlyin and feary littered at Lord Fleys Harry and Hermione waitly .He was get stortenive a gazzing around up the are .Well .Dibbery underts helped himnders around pitending and him And Hermione to and then the very drything found on a bitting .Oll sure more it it litter Minisuer disains again .Im next no prettionsed him minnerely a cewarts and their seem gumenion  alot\n"
          ]
        }
      ]
    }
  ]
}